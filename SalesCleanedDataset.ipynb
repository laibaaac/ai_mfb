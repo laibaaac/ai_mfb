{
 "cells": [
  {
   "cell_type": "code",
   "execution_count": null,
   "metadata": {},
   "outputs": [
    {
     "name": "stdout",
     "output_type": "stream",
     "text": [
      "   year     release_date                title              genre  \\\n",
      "0  2000      January 1st         Bakha Satang              Drama   \n",
      "1  2001     January 12th            Antitrust  Thriller/Suspense   \n",
      "2  2000     January 28th             Santitos                NaN   \n",
      "3  2002  2002 (Wide) by   Frank McKlusky C.I.                NaN   \n",
      "4  2002     January 25th   A Walk to Remember              Drama   \n",
      "\n",
      "   international_box_office  domestic_box_office  worldwide_box_office  \\\n",
      "0                   76576.0                  NaN               76576.0   \n",
      "1                 6900000.0           10965209.0            17865209.0   \n",
      "2                       NaN             378562.0                   NaN   \n",
      "3                       NaN                  NaN                   NaN   \n",
      "4                 4833792.0           41227069.0            46060861.0   \n",
      "\n",
      "   production_budget  Unnamed: 8  opening_weekend  theatre_count  \\\n",
      "0                NaN         NaN              NaN            NaN   \n",
      "1         30000000.0         NaN        5486209.0         2433.0   \n",
      "2                NaN         NaN              NaN            NaN   \n",
      "3                NaN         NaN              NaN            NaN   \n",
      "4         11000000.0         NaN       12177488.0         2411.0   \n",
      "\n",
      "   avg run per theatre  runtime       keywords         creative_type  \\\n",
      "0                  NaN    129.0            NaN  Contemporary Fiction   \n",
      "1                  3.1      NaN            NaN  Contemporary Fiction   \n",
      "2                  NaN    105.0            NaN                   NaN   \n",
      "3                  NaN      NaN            NaN                   NaN   \n",
      "4                  5.3      NaN  Coming of Age  Contemporary Fiction   \n",
      "\n",
      "                                                 url  \n",
      "0  https://www.the-numbers.com/movie/Bakha-Satang...  \n",
      "1        https://www.the-numbers.com/movie/Antitrust  \n",
      "2         https://www.the-numbers.com/movie/Santitos  \n",
      "3  https://www.the-numbers.com/movie/Frank-McKlus...  \n",
      "4  https://www.the-numbers.com/movie/Walk-to-Reme...  \n"
     ]
    }
   ],
   "source": [
    "#Load dataset\n",
    "\n",
    "import pandas as pd \n",
    "\n",
    "sales = pd.read_excel('C:/Users/karen/OneDrive/Documenten/Master DDB/ai/assignmentDataset/sales.xlsx')\n",
    "\n",
    "print(sales.head())"
   ]
  },
  {
   "cell_type": "code",
   "execution_count": null,
   "metadata": {},
   "outputs": [
    {
     "name": "stdout",
     "output_type": "stream",
     "text": [
      "<class 'pandas.core.frame.DataFrame'>\n",
      "RangeIndex: 30612 entries, 0 to 30611\n",
      "Data columns (total 16 columns):\n",
      " #   Column                    Non-Null Count  Dtype  \n",
      "---  ------                    --------------  -----  \n",
      " 0   year                      30612 non-null  int64  \n",
      " 1   release_date              30612 non-null  object \n",
      " 2   title                     30604 non-null  object \n",
      " 3   genre                     28908 non-null  object \n",
      " 4   international_box_office  21575 non-null  float64\n",
      " 5   domestic_box_office       11884 non-null  float64\n",
      " 6   worldwide_box_office      21575 non-null  float64\n",
      " 7   production_budget         4480 non-null   float64\n",
      " 8   Unnamed: 8                0 non-null      float64\n",
      " 9   opening_weekend           10929 non-null  float64\n",
      " 10  theatre_count             10963 non-null  float64\n",
      " 11  avg run per theatre       10952 non-null  float64\n",
      " 12  runtime                   24559 non-null  float64\n",
      " 13  keywords                  12517 non-null  object \n",
      " 14  creative_type             26667 non-null  object \n",
      " 15  url                       30612 non-null  object \n",
      "dtypes: float64(9), int64(1), object(6)\n",
      "memory usage: 3.7+ MB\n",
      "None\n",
      "               year  international_box_office  domestic_box_office  \\\n",
      "count  30612.000000              2.157500e+04         1.188400e+04   \n",
      "mean    2014.542108              1.586202e+07         1.735331e+07   \n",
      "std        5.525085              6.659680e+07         5.050972e+07   \n",
      "min     2000.000000              2.000000e+00         2.000000e+01   \n",
      "25%     2012.000000              2.637500e+04         2.986550e+04   \n",
      "50%     2016.000000              3.348470e+05         2.587510e+05   \n",
      "75%     2019.000000              4.282312e+06         7.667212e+06   \n",
      "max     2021.000000              2.085392e+09         9.366622e+08   \n",
      "\n",
      "       worldwide_box_office  production_budget  Unnamed: 8  opening_weekend  \\\n",
      "count          2.157500e+04       4.480000e+03         0.0     1.092900e+04   \n",
      "mean           2.524796e+07       3.642238e+07         NaN     5.488562e+06   \n",
      "std            1.009796e+08       4.644049e+07         NaN     1.633207e+07   \n",
      "min            2.000000e+00       1.100000e+03         NaN     1.100000e+01   \n",
      "25%            3.422900e+04       6.500000e+06         NaN     7.352000e+03   \n",
      "50%            4.753220e+05       2.000000e+07         NaN     4.087500e+04   \n",
      "75%            6.302152e+06       4.500000e+07         NaN     2.150979e+06   \n",
      "max            2.845900e+09       4.000000e+08         NaN     3.571150e+08   \n",
      "\n",
      "       theatre_count  avg run per theatre       runtime  \n",
      "count   10963.000000         10952.000000  24559.000000  \n",
      "mean      723.147040             4.124562    101.502993  \n",
      "std      1246.401636             3.423855     27.194334  \n",
      "min         1.000000             0.000000     11.000000  \n",
      "25%         2.000000             2.000000     89.000000  \n",
      "50%         8.000000             3.400000     97.000000  \n",
      "75%       969.500000             5.400000    110.000000  \n",
      "max      4725.000000            88.400000   2020.000000  \n"
     ]
    }
   ],
   "source": [
    "# Explore columns information\n",
    "\n",
    "print(df.info())\n",
    "print(df.describe())"
   ]
  },
  {
   "cell_type": "code",
   "execution_count": null,
   "metadata": {},
   "outputs": [
    {
     "name": "stdout",
     "output_type": "stream",
     "text": [
      "year                            0\n",
      "release_date                    0\n",
      "title                           8\n",
      "genre                        1704\n",
      "international_box_office     9037\n",
      "domestic_box_office         18728\n",
      "worldwide_box_office         9037\n",
      "production_budget           26132\n",
      "Unnamed: 8                  30612\n",
      "opening_weekend             19683\n",
      "theatre_count               19649\n",
      "avg run per theatre         19660\n",
      "runtime                      6053\n",
      "keywords                    18095\n",
      "creative_type                3945\n",
      "url                             0\n",
      "dtype: int64\n"
     ]
    }
   ],
   "source": [
    "# Check for missing values\n",
    "\n",
    "df = pd.read_excel('C:/Users/karen/OneDrive/Documenten/Master DDB/ai/assignmentDataset/sales.xlsx')\n",
    "\n",
    "print(df.isnull().sum())"
   ]
  },
  {
   "cell_type": "code",
   "execution_count": 21,
   "metadata": {},
   "outputs": [
    {
     "name": "stdout",
     "output_type": "stream",
     "text": [
      "0\n"
     ]
    }
   ],
   "source": [
    "# Identify duplicates\n",
    "\n",
    "print(df.duplicated().sum())\n"
   ]
  },
  {
   "cell_type": "code",
   "execution_count": null,
   "metadata": {},
   "outputs": [],
   "source": [
    "# Drop NaN/missing values\n",
    "# I don't know how to do this!"
   ]
  },
  {
   "cell_type": "code",
   "execution_count": null,
   "metadata": {},
   "outputs": [],
   "source": [
    "# Saving dataset as a csv file\n",
    "#sales.to_csv('.csv', index=False)\n",
    "\n",
    "#print(\"Cleaned dataset saved as 'csv'\")"
   ]
  }
 ],
 "metadata": {
  "kernelspec": {
   "display_name": "base",
   "language": "python",
   "name": "python3"
  },
  "language_info": {
   "codemirror_mode": {
    "name": "ipython",
    "version": 3
   },
   "file_extension": ".py",
   "mimetype": "text/x-python",
   "name": "python",
   "nbconvert_exporter": "python",
   "pygments_lexer": "ipython3",
   "version": "3.12.4"
  }
 },
 "nbformat": 4,
 "nbformat_minor": 2
}
