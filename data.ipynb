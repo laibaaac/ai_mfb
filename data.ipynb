{
 "cells": [
  {
   "cell_type": "code",
   "execution_count": 20,
   "metadata": {},
   "outputs": [
    {
     "name": "stdout",
     "output_type": "stream",
     "text": [
      "                                        url  idvscore            reviewer  \\\n",
      "0  https://www.metacritic.com/movie/bronson     100.0    \"Andrew O'Hehir\"   \n",
      "1  https://www.metacritic.com/movie/bronson      90.0        'A.O. Scott'   \n",
      "2  https://www.metacritic.com/movie/bronson      90.0                None   \n",
      "3  https://www.metacritic.com/movie/bronson      83.0       'Noel Murray'   \n",
      "4  https://www.metacritic.com/movie/bronson      80.0   'Joshua Rothkopf'   \n",
      "\n",
      "   dateP                                                Rev  \n",
      "0   None   'Bronson owes a little or a lot to Kubrick s ...  \n",
      "1   None   'Bronson invites you to admire its protagonis...  \n",
      "2   None   'Whether it s Peterson/Bronson s more theatri...  \n",
      "3   None   'There are two Bronsons on display here: the ...  \n",
      "4   None   'Refn has somehow found his way to an authent...  \n",
      "                                                 url                  title  \\\n",
      "0  https://www.metacritic.com/movie/!women-art-re...  !Women Art Revolution   \n",
      "1  https://www.metacritic.com/movie/10-cloverfiel...    10 Cloverfield Lane   \n",
      "2  https://www.metacritic.com/movie/10-items-or-less       10 Items or Less   \n",
      "3          https://www.metacritic.com/movie/10-years               10 Years   \n",
      "4  https://www.metacritic.com/movie/100-bloody-acres       100 Bloody Acres   \n",
      "\n",
      "                     studio       rating  runtime  \\\n",
      "0       Hotwire Productions  | Not Rated     83.0   \n",
      "1        Paramount Pictures      | PG-13    104.0   \n",
      "2                Click Star          | R     82.0   \n",
      "3  Anchor Bay Entertainment          | R    100.0   \n",
      "4           Music Box Films  | Not Rated     91.0   \n",
      "\n",
      "                                                cast              director  \\\n",
      "0                                                NaN  Lynn Hershman-Leeson   \n",
      "1  John Gallagher Jr.,John Goodman,Mary Elizabeth...      Dan Trachtenberg   \n",
      "2                 Jonah Hill,Morgan Freeman,Paz Vega       Brad Silberling   \n",
      "3             Channing Tatum,Chris Pratt,Jenna Dewan          Jamie Linden   \n",
      "4                                                NaN       Cameron Cairnes   \n",
      "\n",
      "                                         genre  \\\n",
      "0                                  Documentary   \n",
      "1  Action,Sci-Fi,Drama,Mystery,Thriller,Horror   \n",
      "2                         Drama,Comedy,Romance   \n",
      "3                         Drama,Comedy,Romance   \n",
      "4                                Horror,Comedy   \n",
      "\n",
      "                                             summary  \\\n",
      "0                                                NaN   \n",
      "1  Waking up from a car accident, a young woman (...   \n",
      "2  While researching a role as a supermarket mana...   \n",
      "3                                                NaN   \n",
      "4  Reg and Lindsay run an organic fertilizer busi...   \n",
      "\n",
      "                                              awards  metascore  userscore  \\\n",
      "0                                                NaN         70        NaN   \n",
      "1  #18MostDiscussedMovieof2016 , #1MostSharedMovi...         76        7.7   \n",
      "2                                                NaN         54        5.8   \n",
      "3                                                NaN         61        6.9   \n",
      "4                                                NaN         63        7.5   \n",
      "\n",
      "     RelDate  \n",
      "0 2011-06-01  \n",
      "1 2016-03-11  \n",
      "2 2006-12-01  \n",
      "3 2012-09-14  \n",
      "4 2013-06-28  \n",
      "   year     release_date                title              genre  \\\n",
      "0  2000      January 1st         Bakha Satang              Drama   \n",
      "1  2001     January 12th            Antitrust  Thriller/Suspense   \n",
      "2  2000     January 28th             Santitos                NaN   \n",
      "3  2002  2002 (Wide) by   Frank McKlusky C.I.                NaN   \n",
      "4  2002     January 25th   A Walk to Remember              Drama   \n",
      "\n",
      "   international_box_office  domestic_box_office  worldwide_box_office  \\\n",
      "0                   76576.0                  NaN               76576.0   \n",
      "1                 6900000.0           10965209.0            17865209.0   \n",
      "2                       NaN             378562.0                   NaN   \n",
      "3                       NaN                  NaN                   NaN   \n",
      "4                 4833792.0           41227069.0            46060861.0   \n",
      "\n",
      "   production_budget  Unnamed: 8  opening_weekend  theatre_count  \\\n",
      "0                NaN         NaN              NaN            NaN   \n",
      "1         30000000.0         NaN        5486209.0         2433.0   \n",
      "2                NaN         NaN              NaN            NaN   \n",
      "3                NaN         NaN              NaN            NaN   \n",
      "4         11000000.0         NaN       12177488.0         2411.0   \n",
      "\n",
      "   avg run per theatre  runtime       keywords         creative_type  \\\n",
      "0                  NaN    129.0            NaN  Contemporary Fiction   \n",
      "1                  3.1      NaN            NaN  Contemporary Fiction   \n",
      "2                  NaN    105.0            NaN                   NaN   \n",
      "3                  NaN      NaN            NaN                   NaN   \n",
      "4                  5.3      NaN  Coming of Age  Contemporary Fiction   \n",
      "\n",
      "                                                 url  \n",
      "0  https://www.the-numbers.com/movie/Bakha-Satang...  \n",
      "1        https://www.the-numbers.com/movie/Antitrust  \n",
      "2         https://www.the-numbers.com/movie/Santitos  \n",
      "3  https://www.the-numbers.com/movie/Frank-McKlus...  \n",
      "4  https://www.the-numbers.com/movie/Walk-to-Reme...  \n",
      "                                        url idvscore         reviewer  \\\n",
      "0  https://www.metacritic.com/movie/bronson        8   'Longbottom94'   \n",
      "1  https://www.metacritic.com/movie/bronson        9        'MartinB'   \n",
      "2  https://www.metacritic.com/movie/bronson       10         'Jaakko'   \n",
      "3  https://www.metacritic.com/movie/bronson        6          'CapoR'   \n",
      "4  https://www.metacritic.com/movie/bronson        8       'OrwellB.'   \n",
      "\n",
      "             dateP                                                Rev  \\\n",
      "0   'Apr 25, 2013'   'Many have dismissed this film for not explor...   \n",
      "1   'Oct 13, 2009'   'Anyone who doesn t like this movie simply ju...   \n",
      "2   'Jul 19, 2012'   'Not sure what to think at this film at first...   \n",
      "3   'Oct 13, 2009'   'Nicely portrayed but it lacks the elements t...   \n",
      "4   'Oct 10, 2009'   'Bronson is more than entertainment. It is ar...   \n",
      "\n",
      "  thumbsUp thumbsTot  \n",
      "0        2         2  \n",
      "1        0         1  \n",
      "2        1         1  \n",
      "3        0         1  \n",
      "4        0         0  \n"
     ]
    }
   ],
   "source": [
    "import pandas as pd\n",
    "\n",
    "df_expertreviews = pd.read_excel('/Users/laiba/Desktop/assignmentDataset/ExpertReviews.xlsx')\n",
    "meta_clean = pd.read_excel('/Users/laiba/Desktop/assignmentDataset/metaClean43Brightspace.xlsx')\n",
    "df_sales = pd.read_excel('/Users/laiba/Desktop/assignmentDataset/sales.xlsx')\n",
    "user_reviews = pd.read_excel('/Users/laiba/Desktop/assignmentDataset/UserReviews.xlsx')\n",
    "\n",
    "\n",
    "print(df_expertreviews.head())\n",
    "print(meta_clean.head())\n",
    "print(df_sales.head())\n",
    "print(user_reviews.head())"
   ]
  },
  {
   "cell_type": "markdown",
   "metadata": {},
   "source": [
    "## Lucas Boeseman cleaning work "
   ]
  },
  {
   "cell_type": "code",
   "execution_count": 8,
   "metadata": {},
   "outputs": [
    {
     "data": {
      "text/html": [
       "<div>\n",
       "<style scoped>\n",
       "    .dataframe tbody tr th:only-of-type {\n",
       "        vertical-align: middle;\n",
       "    }\n",
       "\n",
       "    .dataframe tbody tr th {\n",
       "        vertical-align: top;\n",
       "    }\n",
       "\n",
       "    .dataframe thead th {\n",
       "        text-align: right;\n",
       "    }\n",
       "</style>\n",
       "<table border=\"1\" class=\"dataframe\">\n",
       "  <thead>\n",
       "    <tr style=\"text-align: right;\">\n",
       "      <th></th>\n",
       "      <th>url</th>\n",
       "      <th>idvscore</th>\n",
       "      <th>reviewer</th>\n",
       "      <th>dateP</th>\n",
       "      <th>Rev</th>\n",
       "    </tr>\n",
       "  </thead>\n",
       "  <tbody>\n",
       "    <tr>\n",
       "      <th>0</th>\n",
       "      <td>https://www.metacritic.com/movie/bronson</td>\n",
       "      <td>100.0</td>\n",
       "      <td>\"Andrew O'Hehir\"</td>\n",
       "      <td>None</td>\n",
       "      <td>'Bronson owes a little or a lot to Kubrick s ...</td>\n",
       "    </tr>\n",
       "    <tr>\n",
       "      <th>1</th>\n",
       "      <td>https://www.metacritic.com/movie/bronson</td>\n",
       "      <td>90.0</td>\n",
       "      <td>'A.O. Scott'</td>\n",
       "      <td>None</td>\n",
       "      <td>'Bronson invites you to admire its protagonis...</td>\n",
       "    </tr>\n",
       "    <tr>\n",
       "      <th>2</th>\n",
       "      <td>https://www.metacritic.com/movie/bronson</td>\n",
       "      <td>90.0</td>\n",
       "      <td>None</td>\n",
       "      <td>None</td>\n",
       "      <td>'Whether it s Peterson/Bronson s more theatri...</td>\n",
       "    </tr>\n",
       "    <tr>\n",
       "      <th>3</th>\n",
       "      <td>https://www.metacritic.com/movie/bronson</td>\n",
       "      <td>83.0</td>\n",
       "      <td>'Noel Murray'</td>\n",
       "      <td>None</td>\n",
       "      <td>'There are two Bronsons on display here: the ...</td>\n",
       "    </tr>\n",
       "    <tr>\n",
       "      <th>4</th>\n",
       "      <td>https://www.metacritic.com/movie/bronson</td>\n",
       "      <td>80.0</td>\n",
       "      <td>'Joshua Rothkopf'</td>\n",
       "      <td>None</td>\n",
       "      <td>'Refn has somehow found his way to an authent...</td>\n",
       "    </tr>\n",
       "  </tbody>\n",
       "</table>\n",
       "</div>"
      ],
      "text/plain": [
       "                                        url  idvscore            reviewer  \\\n",
       "0  https://www.metacritic.com/movie/bronson     100.0    \"Andrew O'Hehir\"   \n",
       "1  https://www.metacritic.com/movie/bronson      90.0        'A.O. Scott'   \n",
       "2  https://www.metacritic.com/movie/bronson      90.0                None   \n",
       "3  https://www.metacritic.com/movie/bronson      83.0       'Noel Murray'   \n",
       "4  https://www.metacritic.com/movie/bronson      80.0   'Joshua Rothkopf'   \n",
       "\n",
       "   dateP                                                Rev  \n",
       "0   None   'Bronson owes a little or a lot to Kubrick s ...  \n",
       "1   None   'Bronson invites you to admire its protagonis...  \n",
       "2   None   'Whether it s Peterson/Bronson s more theatri...  \n",
       "3   None   'There are two Bronsons on display here: the ...  \n",
       "4   None   'Refn has somehow found his way to an authent...  "
      ]
     },
     "execution_count": 8,
     "metadata": {},
     "output_type": "execute_result"
    }
   ],
   "source": [
    "df_expertreviews.head()"
   ]
  },
  {
   "cell_type": "code",
   "execution_count": 9,
   "metadata": {},
   "outputs": [
    {
     "data": {
      "text/html": [
       "<div>\n",
       "<style scoped>\n",
       "    .dataframe tbody tr th:only-of-type {\n",
       "        vertical-align: middle;\n",
       "    }\n",
       "\n",
       "    .dataframe tbody tr th {\n",
       "        vertical-align: top;\n",
       "    }\n",
       "\n",
       "    .dataframe thead th {\n",
       "        text-align: right;\n",
       "    }\n",
       "</style>\n",
       "<table border=\"1\" class=\"dataframe\">\n",
       "  <thead>\n",
       "    <tr style=\"text-align: right;\">\n",
       "      <th></th>\n",
       "      <th>url</th>\n",
       "      <th>idvscore</th>\n",
       "      <th>reviewer</th>\n",
       "      <th>dateP</th>\n",
       "      <th>Rev</th>\n",
       "      <th>movie_name</th>\n",
       "    </tr>\n",
       "  </thead>\n",
       "  <tbody>\n",
       "    <tr>\n",
       "      <th>0</th>\n",
       "      <td>https://www.metacritic.com/movie/bronson</td>\n",
       "      <td>100.0</td>\n",
       "      <td>\"Andrew O'Hehir\"</td>\n",
       "      <td>None</td>\n",
       "      <td>'Bronson owes a little or a lot to Kubrick s ...</td>\n",
       "      <td>bronson</td>\n",
       "    </tr>\n",
       "    <tr>\n",
       "      <th>1</th>\n",
       "      <td>https://www.metacritic.com/movie/bronson</td>\n",
       "      <td>90.0</td>\n",
       "      <td>'A.O. Scott'</td>\n",
       "      <td>None</td>\n",
       "      <td>'Bronson invites you to admire its protagonis...</td>\n",
       "      <td>bronson</td>\n",
       "    </tr>\n",
       "    <tr>\n",
       "      <th>2</th>\n",
       "      <td>https://www.metacritic.com/movie/bronson</td>\n",
       "      <td>90.0</td>\n",
       "      <td>None</td>\n",
       "      <td>None</td>\n",
       "      <td>'Whether it s Peterson/Bronson s more theatri...</td>\n",
       "      <td>bronson</td>\n",
       "    </tr>\n",
       "    <tr>\n",
       "      <th>3</th>\n",
       "      <td>https://www.metacritic.com/movie/bronson</td>\n",
       "      <td>83.0</td>\n",
       "      <td>'Noel Murray'</td>\n",
       "      <td>None</td>\n",
       "      <td>'There are two Bronsons on display here: the ...</td>\n",
       "      <td>bronson</td>\n",
       "    </tr>\n",
       "    <tr>\n",
       "      <th>4</th>\n",
       "      <td>https://www.metacritic.com/movie/bronson</td>\n",
       "      <td>80.0</td>\n",
       "      <td>'Joshua Rothkopf'</td>\n",
       "      <td>None</td>\n",
       "      <td>'Refn has somehow found his way to an authent...</td>\n",
       "      <td>bronson</td>\n",
       "    </tr>\n",
       "  </tbody>\n",
       "</table>\n",
       "</div>"
      ],
      "text/plain": [
       "                                        url  idvscore            reviewer  \\\n",
       "0  https://www.metacritic.com/movie/bronson     100.0    \"Andrew O'Hehir\"   \n",
       "1  https://www.metacritic.com/movie/bronson      90.0        'A.O. Scott'   \n",
       "2  https://www.metacritic.com/movie/bronson      90.0                None   \n",
       "3  https://www.metacritic.com/movie/bronson      83.0       'Noel Murray'   \n",
       "4  https://www.metacritic.com/movie/bronson      80.0   'Joshua Rothkopf'   \n",
       "\n",
       "   dateP                                                Rev movie_name  \n",
       "0   None   'Bronson owes a little or a lot to Kubrick s ...    bronson  \n",
       "1   None   'Bronson invites you to admire its protagonis...    bronson  \n",
       "2   None   'Whether it s Peterson/Bronson s more theatri...    bronson  \n",
       "3   None   'There are two Bronsons on display here: the ...    bronson  \n",
       "4   None   'Refn has somehow found his way to an authent...    bronson  "
      ]
     },
     "execution_count": 9,
     "metadata": {},
     "output_type": "execute_result"
    }
   ],
   "source": [
    "df_expertreviews['movie_name'] = df_expertreviews['url'].apply(lambda x: x.split('/')[-1])\n",
    "\n",
    "df_expertreviews.head()\n"
   ]
  },
  {
   "cell_type": "code",
   "execution_count": 10,
   "metadata": {},
   "outputs": [
    {
     "data": {
      "text/html": [
       "<div>\n",
       "<style scoped>\n",
       "    .dataframe tbody tr th:only-of-type {\n",
       "        vertical-align: middle;\n",
       "    }\n",
       "\n",
       "    .dataframe tbody tr th {\n",
       "        vertical-align: top;\n",
       "    }\n",
       "\n",
       "    .dataframe thead th {\n",
       "        text-align: right;\n",
       "    }\n",
       "</style>\n",
       "<table border=\"1\" class=\"dataframe\">\n",
       "  <thead>\n",
       "    <tr style=\"text-align: right;\">\n",
       "      <th></th>\n",
       "      <th>movie_name</th>\n",
       "      <th>url</th>\n",
       "      <th>idvscore</th>\n",
       "      <th>dateP</th>\n",
       "      <th>Rev</th>\n",
       "    </tr>\n",
       "  </thead>\n",
       "  <tbody>\n",
       "    <tr>\n",
       "      <th>0</th>\n",
       "      <td>bronson</td>\n",
       "      <td>https://www.metacritic.com/movie/bronson</td>\n",
       "      <td>100.0</td>\n",
       "      <td>None</td>\n",
       "      <td>'Bronson owes a little or a lot to Kubrick s ...</td>\n",
       "    </tr>\n",
       "    <tr>\n",
       "      <th>1</th>\n",
       "      <td>bronson</td>\n",
       "      <td>https://www.metacritic.com/movie/bronson</td>\n",
       "      <td>90.0</td>\n",
       "      <td>None</td>\n",
       "      <td>'Bronson invites you to admire its protagonis...</td>\n",
       "    </tr>\n",
       "    <tr>\n",
       "      <th>2</th>\n",
       "      <td>bronson</td>\n",
       "      <td>https://www.metacritic.com/movie/bronson</td>\n",
       "      <td>90.0</td>\n",
       "      <td>None</td>\n",
       "      <td>'Whether it s Peterson/Bronson s more theatri...</td>\n",
       "    </tr>\n",
       "    <tr>\n",
       "      <th>3</th>\n",
       "      <td>bronson</td>\n",
       "      <td>https://www.metacritic.com/movie/bronson</td>\n",
       "      <td>83.0</td>\n",
       "      <td>None</td>\n",
       "      <td>'There are two Bronsons on display here: the ...</td>\n",
       "    </tr>\n",
       "    <tr>\n",
       "      <th>4</th>\n",
       "      <td>bronson</td>\n",
       "      <td>https://www.metacritic.com/movie/bronson</td>\n",
       "      <td>80.0</td>\n",
       "      <td>None</td>\n",
       "      <td>'Refn has somehow found his way to an authent...</td>\n",
       "    </tr>\n",
       "  </tbody>\n",
       "</table>\n",
       "</div>"
      ],
      "text/plain": [
       "  movie_name                                       url  idvscore  dateP  \\\n",
       "0    bronson  https://www.metacritic.com/movie/bronson     100.0   None   \n",
       "1    bronson  https://www.metacritic.com/movie/bronson      90.0   None   \n",
       "2    bronson  https://www.metacritic.com/movie/bronson      90.0   None   \n",
       "3    bronson  https://www.metacritic.com/movie/bronson      83.0   None   \n",
       "4    bronson  https://www.metacritic.com/movie/bronson      80.0   None   \n",
       "\n",
       "                                                 Rev  \n",
       "0   'Bronson owes a little or a lot to Kubrick s ...  \n",
       "1   'Bronson invites you to admire its protagonis...  \n",
       "2   'Whether it s Peterson/Bronson s more theatri...  \n",
       "3   'There are two Bronsons on display here: the ...  \n",
       "4   'Refn has somehow found his way to an authent...  "
      ]
     },
     "execution_count": 10,
     "metadata": {},
     "output_type": "execute_result"
    }
   ],
   "source": [
    "columns = ['movie_name', 'url' , 'idvscore' ,'dateP' , 'Rev']\n",
    "df_expertreviews = df_expertreviews[columns]\n",
    "\n",
    "df_expertreviews.head()"
   ]
  },
  {
   "cell_type": "code",
   "execution_count": 11,
   "metadata": {},
   "outputs": [
    {
     "name": "stdout",
     "output_type": "stream",
     "text": [
      "movie_name    0\n",
      "url           0\n",
      "idvscore      2\n",
      "dateP         2\n",
      "Rev           2\n",
      "dtype: int64\n"
     ]
    }
   ],
   "source": [
    "# Check for missing values\n",
    "print(df_expertreviews.isnull().sum())\n",
    "\n",
    "# Fill or drop missing values\n",
    "df_expertreviews['dateP'] = df_expertreviews['dateP'].fillna('Unknown')  \n",
    "df_expertreviews['Rev'] = df_expertreviews['Rev'].fillna('NoRev') \n",
    "df_expertreviews['idvscore'] = df_expertreviews['idvscore'].fillna('0') "
   ]
  },
  {
   "cell_type": "code",
   "execution_count": 13,
   "metadata": {},
   "outputs": [],
   "source": [
    "# Strip leading and trailing whitespace from all string columns\n",
    "df_expertreviews['Rev'] = df_expertreviews['Rev'].str.strip()"
   ]
  },
  {
   "cell_type": "code",
   "execution_count": 14,
   "metadata": {},
   "outputs": [],
   "source": [
    "# Standardize movie name formatting\n",
    "df_expertreviews['movie_name'] = df_expertreviews['movie_name'].str.title()  # Convert to Title Case\n"
   ]
  },
  {
   "cell_type": "code",
   "execution_count": 15,
   "metadata": {},
   "outputs": [],
   "source": [
    "# Drop duplicate rows\n",
    "df_expertreviews = df_expertreviews.drop_duplicates()\n"
   ]
  },
  {
   "cell_type": "code",
   "execution_count": null,
   "metadata": {},
   "outputs": [
    {
     "name": "stdout",
     "output_type": "stream",
     "text": [
      "Cleaned dataset saved as 'cleaned_expert_reviews.csv'\n"
     ]
    }
   ],
   "source": [
    "df_expertreviews.to_csv('cleaned_expert_reviews.csv', index=False)\n",
    "\n",
    "print(\"Cleaned dataset saved as 'cleaned_expert_reviews.csv'\")"
   ]
  },
  {
   "cell_type": "markdown",
   "metadata": {},
   "source": [
    "## Laiba Choudhry cleaning work user reviews"
   ]
  },
  {
   "cell_type": "code",
   "execution_count": null,
   "metadata": {},
   "outputs": [
    {
     "name": "stdout",
     "output_type": "stream",
     "text": [
      "url                  object\n",
      "idvscore            float64\n",
      "reviewer             object\n",
      "dateP        datetime64[ns]\n",
      "Rev                  object\n",
      "thumbsUp            float64\n",
      "thumbsTot           float64\n",
      "dtype: object\n",
      "                                        url  idvscore         reviewer  \\\n",
      "0  https://www.metacritic.com/movie/bronson       8.0   'Longbottom94'   \n",
      "1  https://www.metacritic.com/movie/bronson       9.0        'MartinB'   \n",
      "2  https://www.metacritic.com/movie/bronson      10.0         'Jaakko'   \n",
      "3  https://www.metacritic.com/movie/bronson       6.0          'CapoR'   \n",
      "4  https://www.metacritic.com/movie/bronson       8.0       'OrwellB.'   \n",
      "\n",
      "       dateP                                                Rev  thumbsUp  \\\n",
      "0 2013-04-25   'Many have dismissed this film for not explor...       2.0   \n",
      "1 2009-10-13   'Anyone who doesn t like this movie simply ju...       0.0   \n",
      "2 2012-07-19   'Not sure what to think at this film at first...       1.0   \n",
      "3 2009-10-13   'Nicely portrayed but it lacks the elements t...       0.0   \n",
      "4 2009-10-10   'Bronson is more than entertainment. It is ar...       0.0   \n",
      "\n",
      "   thumbsTot  \n",
      "0        2.0  \n",
      "1        1.0  \n",
      "2        1.0  \n",
      "3        1.0  \n",
      "4        0.0  \n"
     ]
    }
   ],
   "source": [
    "# Here we begin cleaning \n",
    "# i am converting the time to datetime format and also converting the idvscore, thumbsUp and thumbsTot to numeric for aggregation etc\n",
    "\n",
    "\n",
    "user_reviews['idvscore'] = pd.to_numeric(user_reviews['idvscore'], errors='coerce')\n",
    "user_reviews['thumbsUp'] = pd.to_numeric(user_reviews['thumbsUp'], errors='coerce')\n",
    "user_reviews['thumbsTot'] = pd.to_numeric(user_reviews['thumbsTot'], errors='coerce')\n",
    "\n",
    "user_reviews['dateP'] = pd.to_datetime(user_reviews['dateP'], errors='coerce')\n",
    "\n",
    "print(user_reviews.dtypes)\n",
    "print(user_reviews.head())"
   ]
  },
  {
   "cell_type": "code",
   "execution_count": 5,
   "metadata": {},
   "outputs": [
    {
     "name": "stdout",
     "output_type": "stream",
     "text": [
      "url          0\n",
      "idvscore     0\n",
      "reviewer     0\n",
      "dateP        0\n",
      "Rev          0\n",
      "thumbsUp     0\n",
      "thumbsTot    0\n",
      "dtype: int64\n"
     ]
    }
   ],
   "source": [
    "# here i am doing something about the missing values, this code i got from chatgpt, because i didnt understand how to handle this \n",
    "\n",
    "user_reviews['idvscore'] = user_reviews['idvscore'].fillna(user_reviews['idvscore'].mean())\n",
    "user_reviews['thumbsUp'] = user_reviews['thumbsUp'].fillna(0)  \n",
    "user_reviews['thumbsTot'] = user_reviews['thumbsTot'].fillna(0)\n",
    "\n",
    "\n",
    "user_reviews['reviewer'] = user_reviews['reviewer'].fillna('Unknown')\n",
    "user_reviews['Rev'] = user_reviews['Rev'].fillna('No review provided')\n",
    "\n",
    "user_reviews['dateP'] = user_reviews['dateP'].fillna(pd.Timestamp('1900-01-01'))\n",
    "\n",
    "\n",
    "# Look for missing values (this i did on my own)\n",
    "print(user_reviews.isnull().sum())\n"
   ]
  },
  {
   "cell_type": "code",
   "execution_count": 6,
   "metadata": {},
   "outputs": [
    {
     "name": "stdout",
     "output_type": "stream",
     "text": [
      "            idvscore       thumbsUp      thumbsTot\n",
      "count  319662.000000  319662.000000  319662.000000\n",
      "mean        6.608184       2.084808       4.173233\n",
      "std         3.168688       8.202692      13.438235\n",
      "min         0.000000       0.000000       0.000000\n",
      "25%         5.000000       0.000000       0.000000\n",
      "50%         7.000000       0.000000       1.000000\n",
      "75%         9.000000       1.000000       3.000000\n",
      "max        10.000000     562.000000    1422.000000\n"
     ]
    }
   ],
   "source": [
    "# i am doing this to get a overview of the data a bit \n",
    "\n",
    "print(user_reviews[['idvscore', 'thumbsUp', 'thumbsTot']].describe())\n"
   ]
  },
  {
   "cell_type": "code",
   "execution_count": null,
   "metadata": {},
   "outputs": [
    {
     "name": "stdout",
     "output_type": "stream",
     "text": [
      "106796\n",
      "0     'Many have dismissed this film for not explor...\n",
      "1     'Anyone who doesn t like this movie simply ju...\n",
      "2     'Not sure what to think at this film at first...\n",
      "3     'Nicely portrayed but it lacks the elements t...\n",
      "4     'Bronson is more than entertainment. It is ar...\n",
      "Name: Rev, dtype: object\n"
     ]
    }
   ],
   "source": [
    "# Checking fo unique values for categorical columns\n",
    "\n",
    "print(user_reviews['reviewer'].nunique())\n",
    "print(user_reviews['Rev'].head())"
   ]
  },
  {
   "cell_type": "code",
   "execution_count": null,
   "metadata": {},
   "outputs": [
    {
     "name": "stdout",
     "output_type": "stream",
     "text": [
      "                                                      url   idvscore  \\\n",
      "5600    https://www.metacritic.com/movie/house-of-1000...   8.000000   \n",
      "6000               https://www.metacritic.com/movie/radio  10.000000   \n",
      "6283    https://www.metacritic.com/movie/lara-croft-to...  10.000000   \n",
      "6284    https://www.metacritic.com/movie/lara-croft-to...  10.000000   \n",
      "6285    https://www.metacritic.com/movie/lara-croft-to...  10.000000   \n",
      "...                                                   ...        ...   \n",
      "311995          https://www.metacritic.com/movie/sin-city   6.608184   \n",
      "313159           https://www.metacritic.com/movie/syriana  10.000000   \n",
      "316723         https://www.metacritic.com/movie/king-kong  10.000000   \n",
      "318497         https://www.metacritic.com/movie/the-hours  10.000000   \n",
      "318498         https://www.metacritic.com/movie/the-hours  10.000000   \n",
      "\n",
      "                    reviewer      dateP  \\\n",
      "5600                'Jeremy' 2003-04-19   \n",
      "6000              'AshleyK.' 2003-11-18   \n",
      "6283                'AnnaB.' 2003-09-10   \n",
      "6284                'AnnaB.' 2003-09-10   \n",
      "6285                'AnnaB.' 2003-09-10   \n",
      "...                      ...        ...   \n",
      "311995               Unknown 1900-01-01   \n",
      "313159               'ramin' 2005-11-21   \n",
      "316723   \"I'mSorryMsJackson\" 2005-12-21   \n",
      "318497            'SamuelH.' 2003-04-11   \n",
      "318498            'SamuelH.' 2003-04-11   \n",
      "\n",
      "                                                      Rev  thumbsUp  thumbsTot  \n",
      "5600     'This movie was quite entertaining and I saw ...       0.0        0.0  \n",
      "6000     'Definitely a great movie!!! I cried through ...       0.0        0.0  \n",
      "6283                                     'Brillient!!!!!'       0.0        0.0  \n",
      "6284                                     'Brillient!!!!!'       0.0        0.0  \n",
      "6285                                     'Brillient!!!!!'       0.0        0.0  \n",
      "...                                                   ...       ...        ...  \n",
      "311995                                 No review provided       0.0        0.0  \n",
      "313159                     'Best film about middle east.'       0.0        0.0  \n",
      "316723   'Thanks for watching my brilliant movie. What...       0.0        0.0  \n",
      "318497   'The Hours got the best ensemble in the SAG a...       0.0        0.0  \n",
      "318498   'The Hours got the best ensemble in the SAG a...       0.0        0.0  \n",
      "\n",
      "[926 rows x 7 columns]\n"
     ]
    }
   ],
   "source": [
    "# i am looking for the dupes \n",
    "\n",
    "duplicates = user_reviews[user_reviews.duplicated()]\n",
    "\n",
    "print(duplicates)"
   ]
  },
  {
   "cell_type": "code",
   "execution_count": null,
   "metadata": {},
   "outputs": [
    {
     "name": "stdout",
     "output_type": "stream",
     "text": [
      "Remaining duplicates: 0\n"
     ]
    }
   ],
   "source": [
    "# now remove the dupes \n",
    "user_reviews = user_reviews.drop_duplicates()\n",
    "\n",
    "print(f\"Remaining duplicates: {user_reviews.duplicated().sum()}\")\n"
   ]
  },
  {
   "cell_type": "code",
   "execution_count": 10,
   "metadata": {},
   "outputs": [
    {
     "name": "stdout",
     "output_type": "stream",
     "text": [
      "Cleaned dataset saved as 'cleaned_user_reviews.csv'\n"
     ]
    }
   ],
   "source": [
    "# i am saving my work to a csv file\n",
    "user_reviews.to_csv('cleaned_user_reviews.csv', index=False)\n",
    "\n",
    "print(\"Cleaned dataset saved as 'cleaned_user_reviews.csv'\")"
   ]
  },
  {
   "cell_type": "markdown",
   "metadata": {},
   "source": [
    "## Karen Last Cleaning work"
   ]
  },
  {
   "cell_type": "code",
   "execution_count": 21,
   "metadata": {},
   "outputs": [
    {
     "name": "stdout",
     "output_type": "stream",
     "text": [
      "   year     release_date                title              genre  \\\n",
      "0  2000      January 1st         Bakha Satang              Drama   \n",
      "1  2001     January 12th            Antitrust  Thriller/Suspense   \n",
      "2  2000     January 28th             Santitos                NaN   \n",
      "3  2002  2002 (Wide) by   Frank McKlusky C.I.                NaN   \n",
      "4  2002     January 25th   A Walk to Remember              Drama   \n",
      "\n",
      "   international_box_office  domestic_box_office  worldwide_box_office  \\\n",
      "0                   76576.0                  NaN               76576.0   \n",
      "1                 6900000.0           10965209.0            17865209.0   \n",
      "2                       NaN             378562.0                   NaN   \n",
      "3                       NaN                  NaN                   NaN   \n",
      "4                 4833792.0           41227069.0            46060861.0   \n",
      "\n",
      "   production_budget  Unnamed: 8  opening_weekend  theatre_count  \\\n",
      "0                NaN         NaN              NaN            NaN   \n",
      "1         30000000.0         NaN        5486209.0         2433.0   \n",
      "2                NaN         NaN              NaN            NaN   \n",
      "3                NaN         NaN              NaN            NaN   \n",
      "4         11000000.0         NaN       12177488.0         2411.0   \n",
      "\n",
      "   avg run per theatre  runtime       keywords         creative_type  \\\n",
      "0                  NaN    129.0            NaN  Contemporary Fiction   \n",
      "1                  3.1      NaN            NaN  Contemporary Fiction   \n",
      "2                  NaN    105.0            NaN                   NaN   \n",
      "3                  NaN      NaN            NaN                   NaN   \n",
      "4                  5.3      NaN  Coming of Age  Contemporary Fiction   \n",
      "\n",
      "                                                 url  \n",
      "0  https://www.the-numbers.com/movie/Bakha-Satang...  \n",
      "1        https://www.the-numbers.com/movie/Antitrust  \n",
      "2         https://www.the-numbers.com/movie/Santitos  \n",
      "3  https://www.the-numbers.com/movie/Frank-McKlus...  \n",
      "4  https://www.the-numbers.com/movie/Walk-to-Reme...  \n"
     ]
    }
   ],
   "source": [
    "print(df_sales.head())"
   ]
  },
  {
   "cell_type": "code",
   "execution_count": 22,
   "metadata": {},
   "outputs": [
    {
     "name": "stdout",
     "output_type": "stream",
     "text": [
      "<class 'pandas.core.frame.DataFrame'>\n",
      "RangeIndex: 30612 entries, 0 to 30611\n",
      "Data columns (total 16 columns):\n",
      " #   Column                    Non-Null Count  Dtype  \n",
      "---  ------                    --------------  -----  \n",
      " 0   year                      30612 non-null  int64  \n",
      " 1   release_date              30612 non-null  object \n",
      " 2   title                     30604 non-null  object \n",
      " 3   genre                     28908 non-null  object \n",
      " 4   international_box_office  21575 non-null  float64\n",
      " 5   domestic_box_office       11884 non-null  float64\n",
      " 6   worldwide_box_office      21575 non-null  float64\n",
      " 7   production_budget         4480 non-null   float64\n",
      " 8   Unnamed: 8                0 non-null      float64\n",
      " 9   opening_weekend           10929 non-null  float64\n",
      " 10  theatre_count             10963 non-null  float64\n",
      " 11  avg run per theatre       10952 non-null  float64\n",
      " 12  runtime                   24559 non-null  float64\n",
      " 13  keywords                  12517 non-null  object \n",
      " 14  creative_type             26667 non-null  object \n",
      " 15  url                       30612 non-null  object \n",
      "dtypes: float64(9), int64(1), object(6)\n",
      "memory usage: 3.7+ MB\n",
      "None\n",
      "               year  international_box_office  domestic_box_office  \\\n",
      "count  30612.000000              2.157500e+04         1.188400e+04   \n",
      "mean    2014.542108              1.586202e+07         1.735331e+07   \n",
      "std        5.525085              6.659680e+07         5.050972e+07   \n",
      "min     2000.000000              2.000000e+00         2.000000e+01   \n",
      "25%     2012.000000              2.637500e+04         2.986550e+04   \n",
      "50%     2016.000000              3.348470e+05         2.587510e+05   \n",
      "75%     2019.000000              4.282312e+06         7.667212e+06   \n",
      "max     2021.000000              2.085392e+09         9.366622e+08   \n",
      "\n",
      "       worldwide_box_office  production_budget  Unnamed: 8  opening_weekend  \\\n",
      "count          2.157500e+04       4.480000e+03         0.0     1.092900e+04   \n",
      "mean           2.524796e+07       3.642238e+07         NaN     5.488562e+06   \n",
      "std            1.009796e+08       4.644049e+07         NaN     1.633207e+07   \n",
      "min            2.000000e+00       1.100000e+03         NaN     1.100000e+01   \n",
      "25%            3.422900e+04       6.500000e+06         NaN     7.352000e+03   \n",
      "50%            4.753220e+05       2.000000e+07         NaN     4.087500e+04   \n",
      "75%            6.302152e+06       4.500000e+07         NaN     2.150979e+06   \n",
      "max            2.845900e+09       4.000000e+08         NaN     3.571150e+08   \n",
      "\n",
      "       theatre_count  avg run per theatre       runtime  \n",
      "count   10963.000000         10952.000000  24559.000000  \n",
      "mean      723.147040             4.124562    101.502993  \n",
      "std      1246.401636             3.423855     27.194334  \n",
      "min         1.000000             0.000000     11.000000  \n",
      "25%         2.000000             2.000000     89.000000  \n",
      "50%         8.000000             3.400000     97.000000  \n",
      "75%       969.500000             5.400000    110.000000  \n",
      "max      4725.000000            88.400000   2020.000000  \n"
     ]
    }
   ],
   "source": [
    "print(df_sales.info())\n",
    "print(df_sales.describe())"
   ]
  },
  {
   "cell_type": "code",
   "execution_count": 23,
   "metadata": {},
   "outputs": [
    {
     "name": "stdout",
     "output_type": "stream",
     "text": [
      "year                            0\n",
      "release_date                    0\n",
      "title                           8\n",
      "genre                        1704\n",
      "international_box_office     9037\n",
      "domestic_box_office         18728\n",
      "worldwide_box_office         9037\n",
      "production_budget           26132\n",
      "Unnamed: 8                  30612\n",
      "opening_weekend             19683\n",
      "theatre_count               19649\n",
      "avg run per theatre         19660\n",
      "runtime                      6053\n",
      "keywords                    18095\n",
      "creative_type                3945\n",
      "url                             0\n",
      "dtype: int64\n"
     ]
    }
   ],
   "source": [
    "print(df_sales.isnull().sum())"
   ]
  },
  {
   "cell_type": "code",
   "execution_count": 24,
   "metadata": {},
   "outputs": [
    {
     "name": "stdout",
     "output_type": "stream",
     "text": [
      "0\n"
     ]
    }
   ],
   "source": [
    "print(df_sales.duplicated().sum())"
   ]
  }
 ],
 "metadata": {
  "kernelspec": {
   "display_name": "base",
   "language": "python",
   "name": "python3"
  },
  "language_info": {
   "codemirror_mode": {
    "name": "ipython",
    "version": 3
   },
   "file_extension": ".py",
   "mimetype": "text/x-python",
   "name": "python",
   "nbconvert_exporter": "python",
   "pygments_lexer": "ipython3",
   "version": "3.12.4"
  }
 },
 "nbformat": 4,
 "nbformat_minor": 2
}
