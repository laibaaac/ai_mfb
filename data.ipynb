{
 "cells": [
  {
   "cell_type": "code",
   "execution_count": 1,
   "metadata": {},
   "outputs": [
    {
     "name": "stdout",
     "output_type": "stream",
     "text": [
      "                                        url idvscore         reviewer  \\\n",
      "0  https://www.metacritic.com/movie/bronson        8   'Longbottom94'   \n",
      "1  https://www.metacritic.com/movie/bronson        9        'MartinB'   \n",
      "2  https://www.metacritic.com/movie/bronson       10         'Jaakko'   \n",
      "3  https://www.metacritic.com/movie/bronson        6          'CapoR'   \n",
      "4  https://www.metacritic.com/movie/bronson        8       'OrwellB.'   \n",
      "\n",
      "             dateP                                                Rev  \\\n",
      "0   'Apr 25, 2013'   'Many have dismissed this film for not explor...   \n",
      "1   'Oct 13, 2009'   'Anyone who doesn t like this movie simply ju...   \n",
      "2   'Jul 19, 2012'   'Not sure what to think at this film at first...   \n",
      "3   'Oct 13, 2009'   'Nicely portrayed but it lacks the elements t...   \n",
      "4   'Oct 10, 2009'   'Bronson is more than entertainment. It is ar...   \n",
      "\n",
      "  thumbsUp thumbsTot  \n",
      "0        2         2  \n",
      "1        0         1  \n",
      "2        1         1  \n",
      "3        0         1  \n",
      "4        0         0  \n"
     ]
    }
   ],
   "source": [
    "import pandas as pd\n",
    "\n",
    "user_reviews = pd.read_excel('/Users/laiba/Desktop/assignmentDataset/UserReviews.xlsx')\n",
    "\n",
    "print(user_reviews.head())\n"
   ]
  },
  {
   "cell_type": "code",
   "execution_count": 13,
   "metadata": {},
   "outputs": [
    {
     "ename": "NameError",
     "evalue": "name 'expert_reviews' is not defined",
     "output_type": "error",
     "traceback": [
      "\u001b[0;31m---------------------------------------------------------------------------\u001b[0m",
      "\u001b[0;31mNameError\u001b[0m                                 Traceback (most recent call last)",
      "Cell \u001b[0;32mIn[13], line 1\u001b[0m\n\u001b[0;32m----> 1\u001b[0m expert_reviews\u001b[38;5;241m.\u001b[39mhead()\n",
      "\u001b[0;31mNameError\u001b[0m: name 'expert_reviews' is not defined"
     ]
    }
   ],
   "source": [
    "expert_reviews.head()"
   ]
  },
  {
   "cell_type": "code",
   "execution_count": null,
   "metadata": {},
   "outputs": [
    {
     "name": "stdout",
     "output_type": "stream",
     "text": [
      "url                  object\n",
      "idvscore            float64\n",
      "reviewer             object\n",
      "dateP        datetime64[ns]\n",
      "Rev                  object\n",
      "thumbsUp            float64\n",
      "thumbsTot           float64\n",
      "dtype: object\n",
      "                                        url  idvscore         reviewer  \\\n",
      "0  https://www.metacritic.com/movie/bronson       8.0   'Longbottom94'   \n",
      "1  https://www.metacritic.com/movie/bronson       9.0        'MartinB'   \n",
      "2  https://www.metacritic.com/movie/bronson      10.0         'Jaakko'   \n",
      "3  https://www.metacritic.com/movie/bronson       6.0          'CapoR'   \n",
      "4  https://www.metacritic.com/movie/bronson       8.0       'OrwellB.'   \n",
      "\n",
      "       dateP                                                Rev  thumbsUp  \\\n",
      "0 2013-04-25   'Many have dismissed this film for not explor...       2.0   \n",
      "1 2009-10-13   'Anyone who doesn t like this movie simply ju...       0.0   \n",
      "2 2012-07-19   'Not sure what to think at this film at first...       1.0   \n",
      "3 2009-10-13   'Nicely portrayed but it lacks the elements t...       0.0   \n",
      "4 2009-10-10   'Bronson is more than entertainment. It is ar...       0.0   \n",
      "\n",
      "   thumbsTot  \n",
      "0        2.0  \n",
      "1        1.0  \n",
      "2        1.0  \n",
      "3        1.0  \n",
      "4        0.0  \n"
     ]
    }
   ],
   "source": [
    "# Here we begin cleaning \n",
    "# i am converting the time to datetime format and also converting the idvscore, thumbsUp and thumbsTot to numeric for aggregation etc\n",
    "\n",
    "\n",
    "user_reviews['idvscore'] = pd.to_numeric(user_reviews['idvscore'], errors='coerce')\n",
    "user_reviews['thumbsUp'] = pd.to_numeric(user_reviews['thumbsUp'], errors='coerce')\n",
    "user_reviews['thumbsTot'] = pd.to_numeric(user_reviews['thumbsTot'], errors='coerce')\n",
    "\n",
    "user_reviews['dateP'] = pd.to_datetime(user_reviews['dateP'], errors='coerce')\n",
    "\n",
    "print(user_reviews.dtypes)\n",
    "print(user_reviews.head())"
   ]
  },
  {
   "cell_type": "code",
   "execution_count": 5,
   "metadata": {},
   "outputs": [
    {
     "name": "stdout",
     "output_type": "stream",
     "text": [
      "url          0\n",
      "idvscore     0\n",
      "reviewer     0\n",
      "dateP        0\n",
      "Rev          0\n",
      "thumbsUp     0\n",
      "thumbsTot    0\n",
      "dtype: int64\n"
     ]
    }
   ],
   "source": [
    "# here i am doing something about the missing values, this code i got from chatgpt, because i didnt understand how to handle this \n",
    "\n",
    "user_reviews['idvscore'] = user_reviews['idvscore'].fillna(user_reviews['idvscore'].mean())\n",
    "user_reviews['thumbsUp'] = user_reviews['thumbsUp'].fillna(0)  \n",
    "user_reviews['thumbsTot'] = user_reviews['thumbsTot'].fillna(0)\n",
    "\n",
    "\n",
    "user_reviews['reviewer'] = user_reviews['reviewer'].fillna('Unknown')\n",
    "user_reviews['Rev'] = user_reviews['Rev'].fillna('No review provided')\n",
    "\n",
    "user_reviews['dateP'] = user_reviews['dateP'].fillna(pd.Timestamp('1900-01-01'))\n",
    "\n",
    "\n",
    "# Look for missing values (this i did on my own)\n",
    "print(user_reviews.isnull().sum())\n"
   ]
  },
  {
   "cell_type": "code",
   "execution_count": 6,
   "metadata": {},
   "outputs": [
    {
     "name": "stdout",
     "output_type": "stream",
     "text": [
      "            idvscore       thumbsUp      thumbsTot\n",
      "count  319662.000000  319662.000000  319662.000000\n",
      "mean        6.608184       2.084808       4.173233\n",
      "std         3.168688       8.202692      13.438235\n",
      "min         0.000000       0.000000       0.000000\n",
      "25%         5.000000       0.000000       0.000000\n",
      "50%         7.000000       0.000000       1.000000\n",
      "75%         9.000000       1.000000       3.000000\n",
      "max        10.000000     562.000000    1422.000000\n"
     ]
    }
   ],
   "source": [
    "# i am doing this to get a overview of the data a bit \n",
    "\n",
    "print(user_reviews[['idvscore', 'thumbsUp', 'thumbsTot']].describe())\n"
   ]
  },
  {
   "cell_type": "code",
   "execution_count": null,
   "metadata": {},
   "outputs": [
    {
     "name": "stdout",
     "output_type": "stream",
     "text": [
      "106796\n",
      "0     'Many have dismissed this film for not explor...\n",
      "1     'Anyone who doesn t like this movie simply ju...\n",
      "2     'Not sure what to think at this film at first...\n",
      "3     'Nicely portrayed but it lacks the elements t...\n",
      "4     'Bronson is more than entertainment. It is ar...\n",
      "Name: Rev, dtype: object\n"
     ]
    }
   ],
   "source": [
    "# Checking fo unique values for categorical columns\n",
    "\n",
    "print(user_reviews['reviewer'].nunique())\n",
    "print(user_reviews['Rev'].head())"
   ]
  },
  {
   "cell_type": "code",
   "execution_count": null,
   "metadata": {},
   "outputs": [
    {
     "name": "stdout",
     "output_type": "stream",
     "text": [
      "                                                      url   idvscore  \\\n",
      "5600    https://www.metacritic.com/movie/house-of-1000...   8.000000   \n",
      "6000               https://www.metacritic.com/movie/radio  10.000000   \n",
      "6283    https://www.metacritic.com/movie/lara-croft-to...  10.000000   \n",
      "6284    https://www.metacritic.com/movie/lara-croft-to...  10.000000   \n",
      "6285    https://www.metacritic.com/movie/lara-croft-to...  10.000000   \n",
      "...                                                   ...        ...   \n",
      "311995          https://www.metacritic.com/movie/sin-city   6.608184   \n",
      "313159           https://www.metacritic.com/movie/syriana  10.000000   \n",
      "316723         https://www.metacritic.com/movie/king-kong  10.000000   \n",
      "318497         https://www.metacritic.com/movie/the-hours  10.000000   \n",
      "318498         https://www.metacritic.com/movie/the-hours  10.000000   \n",
      "\n",
      "                    reviewer      dateP  \\\n",
      "5600                'Jeremy' 2003-04-19   \n",
      "6000              'AshleyK.' 2003-11-18   \n",
      "6283                'AnnaB.' 2003-09-10   \n",
      "6284                'AnnaB.' 2003-09-10   \n",
      "6285                'AnnaB.' 2003-09-10   \n",
      "...                      ...        ...   \n",
      "311995               Unknown 1900-01-01   \n",
      "313159               'ramin' 2005-11-21   \n",
      "316723   \"I'mSorryMsJackson\" 2005-12-21   \n",
      "318497            'SamuelH.' 2003-04-11   \n",
      "318498            'SamuelH.' 2003-04-11   \n",
      "\n",
      "                                                      Rev  thumbsUp  thumbsTot  \n",
      "5600     'This movie was quite entertaining and I saw ...       0.0        0.0  \n",
      "6000     'Definitely a great movie!!! I cried through ...       0.0        0.0  \n",
      "6283                                     'Brillient!!!!!'       0.0        0.0  \n",
      "6284                                     'Brillient!!!!!'       0.0        0.0  \n",
      "6285                                     'Brillient!!!!!'       0.0        0.0  \n",
      "...                                                   ...       ...        ...  \n",
      "311995                                 No review provided       0.0        0.0  \n",
      "313159                     'Best film about middle east.'       0.0        0.0  \n",
      "316723   'Thanks for watching my brilliant movie. What...       0.0        0.0  \n",
      "318497   'The Hours got the best ensemble in the SAG a...       0.0        0.0  \n",
      "318498   'The Hours got the best ensemble in the SAG a...       0.0        0.0  \n",
      "\n",
      "[926 rows x 7 columns]\n"
     ]
    }
   ],
   "source": [
    "# i am looking for the dupes \n",
    "\n",
    "duplicates = user_reviews[user_reviews.duplicated()]\n",
    "\n",
    "print(duplicates)"
   ]
  },
  {
   "cell_type": "code",
   "execution_count": null,
   "metadata": {},
   "outputs": [
    {
     "name": "stdout",
     "output_type": "stream",
     "text": [
      "Remaining duplicates: 0\n"
     ]
    }
   ],
   "source": [
    "# now remove the dupes \n",
    "user_reviews = user_reviews.drop_duplicates()\n",
    "\n",
    "print(f\"Remaining duplicates: {user_reviews.duplicated().sum()}\")\n"
   ]
  },
  {
   "cell_type": "code",
   "execution_count": 10,
   "metadata": {},
   "outputs": [
    {
     "name": "stdout",
     "output_type": "stream",
     "text": [
      "Cleaned dataset saved as 'cleaned_user_reviews.csv'\n"
     ]
    }
   ],
   "source": [
    "# i am saving my work to a csv file\n",
    "user_reviews.to_csv('cleaned_user_reviews.csv', index=False)\n",
    "\n",
    "print(\"Cleaned dataset saved as 'cleaned_user_reviews.csv'\")"
   ]
  }
 ],
 "metadata": {
  "kernelspec": {
   "display_name": "base",
   "language": "python",
   "name": "python3"
  },
  "language_info": {
   "codemirror_mode": {
    "name": "ipython",
    "version": 3
   },
   "file_extension": ".py",
   "mimetype": "text/x-python",
   "name": "python",
   "nbconvert_exporter": "python",
   "pygments_lexer": "ipython3",
   "version": "3.12.4"
  }
 },
 "nbformat": 4,
 "nbformat_minor": 2
}
